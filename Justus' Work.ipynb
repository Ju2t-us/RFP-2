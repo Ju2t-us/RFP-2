{
 "cells": [
  {
   "cell_type": "code",
   "execution_count": 1,
   "id": "0adc8160",
   "metadata": {},
   "outputs": [],
   "source": [
    "import json\n",
    "import pandas as pd\n",
    "from sklearn.feature_extraction.text import TfidfVectorizer\n",
    "from sklearn.cluster import KMeans\n",
    "from sklearn.metrics import silhouette_score"
   ]
  },
  {
   "cell_type": "code",
   "execution_count": 2,
   "id": "b48cfe81",
   "metadata": {},
   "outputs": [],
   "source": [
    "# Load the JSON data from the MPD slice file\n",
    "with open('mpd.slice.0-999.json') as f:\n",
    "    mpd_data = json.load(f)\n",
    "# Extract playlists from the data\n",
    "playlists = mpd_data[\"playlists\"]"
   ]
  },
  {
   "cell_type": "code",
   "execution_count": 3,
   "id": "ef78f89f",
   "metadata": {},
   "outputs": [],
   "source": [
    "# Create a DataFrame from the playlist data\n",
    "playlist_df = pd.DataFrame(playlists)\n",
    "\n",
    "# Extract relevant features for clustering\n",
    "X = playlist_df[['name', 'description']].fillna('').apply(lambda x: ' '.join(x), axis=1)\n",
    "\n",
    "# Vectorize the text data\n",
    "vectorizer = TfidfVectorizer(max_df=0.5, min_df=2, stop_words='english')\n",
    "X_vect = vectorizer.fit_transform(X)"
   ]
  },
  {
   "cell_type": "code",
   "execution_count": null,
   "id": "ccfd7ebc",
   "metadata": {},
   "outputs": [],
   "source": [
    "# import matplotlib.pyplot as plt\n",
    "# from sklearn.cluster import MiniBatchKMeans\n",
    "# k_values = range(1, 100)  # Try cluster numbers from 1 to 10\n",
    "# inertia_values = []\n",
    "# for k in k_values:\n",
    "#     kmeans = MiniBatchKMeans(n_clusters=k, random_state=42)\n",
    "#     kmeans.fit(X_vect)\n",
    "#     inertia_values.append(kmeans.inertia_)\n",
    "# plt.plot(k_values, inertia_values, marker='o')\n",
    "# plt.xlabel('Number of clusters')\n",
    "# plt.ylabel('Inertia')\n",
    "# plt.title('Elbow Method for Optimal k')\n",
    "# plt.show()"
   ]
  },
  {
   "cell_type": "code",
   "execution_count": null,
   "id": "d1cc631a",
   "metadata": {},
   "outputs": [],
   "source": [
    "# k_values = range(2, 100)\n",
    "# best_silhouette_score = -1\n",
    "# best_k = None\n",
    "# for k in k_values:\n",
    "#     minibatch_kmeans = MiniBatchKMeans(n_clusters=k, random_state=42)\n",
    "#     cluster_labels = minibatch_kmeans.fit_predict(X_vect)\n",
    "#     silhouette_avg = silhouette_score(X_vect, cluster_labels)\n",
    "#     print(f\"Number of clusters: {k}, Silhouette Score: {silhouette_avg}\")\n",
    "#     if silhouette_avg > best_silhouette_score:\n",
    "#         best_silhouette_score = silhouette_avg\n",
    "#         best_k = k\n",
    "\n",
    "# print(f\"Best number of clusters: {best_k}\")"
   ]
  },
  {
   "cell_type": "code",
   "execution_count": null,
   "id": "b97b9fdb",
   "metadata": {},
   "outputs": [],
   "source": [
    "#A general rule of thumb is that a silhouette score above 0.5 indicates a good clustering, \n",
    "#a silhouette score below 0.25 indicates a bad clustering,\n",
    "#and a silhouette score between 0.25 and 0.5 indicates a fair clustering.\n",
    "\n",
    "#40 clusters has a score of 0.5108932664557817, and seems to be a good elbow"
   ]
  },
  {
   "cell_type": "code",
   "execution_count": 5,
   "id": "d9494079",
   "metadata": {},
   "outputs": [
    {
     "name": "stdout",
     "output_type": "stream",
     "text": [
      "  (0, 0)\t1.0\n"
     ]
    }
   ],
   "source": [
    "with open('Vetting_Playlist.json', 'r') as file:\n",
    "    # Read the contents\n",
    "    json_data = file.read()\n",
    "    # Parse the JSON\n",
    "    vetting = json.loads(json_data)\n",
    "    \n",
    "playlist_data = {\n",
    "    'name': [vetting['name']],\n",
    "    'description': [vetting.get('description', '')]  # Assuming description may be missing\n",
    "}\n",
    "\n",
    "# Create a DataFrame from the playlist data\n",
    "playlist_df = pd.DataFrame(playlist_data)\n",
    "\n",
    "# Extract relevant features for clustering\n",
    "X = playlist_df[['name', 'description']].fillna('').apply(lambda x: ' '.join(x), axis=1)\n",
    "\n",
    "# Vectorize the text data\n",
    "vectorizer = TfidfVectorizer(max_df=1.0, min_df=1, stop_words='english')\n",
    "V_vect = vectorizer.fit_transform(X)\n",
    "print(V_vect)"
   ]
  },
  {
   "cell_type": "code",
   "execution_count": 6,
   "id": "c52939bd",
   "metadata": {},
   "outputs": [
    {
     "ename": "ValueError",
     "evalue": "X has 1 features, but MiniBatchKMeans is expecting 157 features as input.",
     "output_type": "error",
     "traceback": [
      "\u001b[1;31m---------------------------------------------------------------------------\u001b[0m",
      "\u001b[1;31mValueError\u001b[0m                                Traceback (most recent call last)",
      "\u001b[1;32m~\\AppData\\Local\\Temp\\ipykernel_5740\\89652705.py\u001b[0m in \u001b[0;36m<module>\u001b[1;34m\u001b[0m\n\u001b[0;32m      3\u001b[0m \u001b[0mminibatch_kmeans\u001b[0m \u001b[1;33m=\u001b[0m \u001b[0mMiniBatchKMeans\u001b[0m\u001b[1;33m(\u001b[0m\u001b[0mn_clusters\u001b[0m\u001b[1;33m=\u001b[0m\u001b[1;36m40\u001b[0m\u001b[1;33m,\u001b[0m \u001b[0mrandom_state\u001b[0m\u001b[1;33m=\u001b[0m\u001b[1;36m42\u001b[0m\u001b[1;33m)\u001b[0m\u001b[1;33m\u001b[0m\u001b[1;33m\u001b[0m\u001b[0m\n\u001b[0;32m      4\u001b[0m \u001b[0mcluster_labels\u001b[0m \u001b[1;33m=\u001b[0m \u001b[0mminibatch_kmeans\u001b[0m\u001b[1;33m.\u001b[0m\u001b[0mfit_predict\u001b[0m\u001b[1;33m(\u001b[0m\u001b[0mX_vect\u001b[0m\u001b[1;33m)\u001b[0m\u001b[1;33m\u001b[0m\u001b[1;33m\u001b[0m\u001b[0m\n\u001b[1;32m----> 5\u001b[1;33m \u001b[0mminibatch_kmeans\u001b[0m\u001b[1;33m.\u001b[0m\u001b[0mpredict\u001b[0m\u001b[1;33m(\u001b[0m\u001b[0mV_vect\u001b[0m\u001b[1;33m)\u001b[0m\u001b[1;33m\u001b[0m\u001b[1;33m\u001b[0m\u001b[0m\n\u001b[0m",
      "\u001b[1;32mC:\\ProgramData\\Anaconda3\\lib\\site-packages\\sklearn\\cluster\\_kmeans.py\u001b[0m in \u001b[0;36mpredict\u001b[1;34m(self, X, sample_weight)\u001b[0m\n\u001b[0;32m   2145\u001b[0m         \u001b[0mcheck_is_fitted\u001b[0m\u001b[1;33m(\u001b[0m\u001b[0mself\u001b[0m\u001b[1;33m)\u001b[0m\u001b[1;33m\u001b[0m\u001b[1;33m\u001b[0m\u001b[0m\n\u001b[0;32m   2146\u001b[0m \u001b[1;33m\u001b[0m\u001b[0m\n\u001b[1;32m-> 2147\u001b[1;33m         \u001b[0mX\u001b[0m \u001b[1;33m=\u001b[0m \u001b[0mself\u001b[0m\u001b[1;33m.\u001b[0m\u001b[0m_check_test_data\u001b[0m\u001b[1;33m(\u001b[0m\u001b[0mX\u001b[0m\u001b[1;33m)\u001b[0m\u001b[1;33m\u001b[0m\u001b[1;33m\u001b[0m\u001b[0m\n\u001b[0m\u001b[0;32m   2148\u001b[0m         \u001b[0mx_squared_norms\u001b[0m \u001b[1;33m=\u001b[0m \u001b[0mrow_norms\u001b[0m\u001b[1;33m(\u001b[0m\u001b[0mX\u001b[0m\u001b[1;33m,\u001b[0m \u001b[0msquared\u001b[0m\u001b[1;33m=\u001b[0m\u001b[1;32mTrue\u001b[0m\u001b[1;33m)\u001b[0m\u001b[1;33m\u001b[0m\u001b[1;33m\u001b[0m\u001b[0m\n\u001b[0;32m   2149\u001b[0m         \u001b[0msample_weight\u001b[0m \u001b[1;33m=\u001b[0m \u001b[0m_check_sample_weight\u001b[0m\u001b[1;33m(\u001b[0m\u001b[0msample_weight\u001b[0m\u001b[1;33m,\u001b[0m \u001b[0mX\u001b[0m\u001b[1;33m,\u001b[0m \u001b[0mdtype\u001b[0m\u001b[1;33m=\u001b[0m\u001b[0mX\u001b[0m\u001b[1;33m.\u001b[0m\u001b[0mdtype\u001b[0m\u001b[1;33m)\u001b[0m\u001b[1;33m\u001b[0m\u001b[1;33m\u001b[0m\u001b[0m\n",
      "\u001b[1;32mC:\\ProgramData\\Anaconda3\\lib\\site-packages\\sklearn\\cluster\\_kmeans.py\u001b[0m in \u001b[0;36m_check_test_data\u001b[1;34m(self, X)\u001b[0m\n\u001b[0;32m   1005\u001b[0m \u001b[1;33m\u001b[0m\u001b[0m\n\u001b[0;32m   1006\u001b[0m     \u001b[1;32mdef\u001b[0m \u001b[0m_check_test_data\u001b[0m\u001b[1;33m(\u001b[0m\u001b[0mself\u001b[0m\u001b[1;33m,\u001b[0m \u001b[0mX\u001b[0m\u001b[1;33m)\u001b[0m\u001b[1;33m:\u001b[0m\u001b[1;33m\u001b[0m\u001b[1;33m\u001b[0m\u001b[0m\n\u001b[1;32m-> 1007\u001b[1;33m         X = self._validate_data(\n\u001b[0m\u001b[0;32m   1008\u001b[0m             \u001b[0mX\u001b[0m\u001b[1;33m,\u001b[0m\u001b[1;33m\u001b[0m\u001b[1;33m\u001b[0m\u001b[0m\n\u001b[0;32m   1009\u001b[0m             \u001b[0maccept_sparse\u001b[0m\u001b[1;33m=\u001b[0m\u001b[1;34m\"csr\"\u001b[0m\u001b[1;33m,\u001b[0m\u001b[1;33m\u001b[0m\u001b[1;33m\u001b[0m\u001b[0m\n",
      "\u001b[1;32mC:\\ProgramData\\Anaconda3\\lib\\site-packages\\sklearn\\base.py\u001b[0m in \u001b[0;36m_validate_data\u001b[1;34m(self, X, y, reset, validate_separately, **check_params)\u001b[0m\n\u001b[0;32m    583\u001b[0m \u001b[1;33m\u001b[0m\u001b[0m\n\u001b[0;32m    584\u001b[0m         \u001b[1;32mif\u001b[0m \u001b[1;32mnot\u001b[0m \u001b[0mno_val_X\u001b[0m \u001b[1;32mand\u001b[0m \u001b[0mcheck_params\u001b[0m\u001b[1;33m.\u001b[0m\u001b[0mget\u001b[0m\u001b[1;33m(\u001b[0m\u001b[1;34m\"ensure_2d\"\u001b[0m\u001b[1;33m,\u001b[0m \u001b[1;32mTrue\u001b[0m\u001b[1;33m)\u001b[0m\u001b[1;33m:\u001b[0m\u001b[1;33m\u001b[0m\u001b[1;33m\u001b[0m\u001b[0m\n\u001b[1;32m--> 585\u001b[1;33m             \u001b[0mself\u001b[0m\u001b[1;33m.\u001b[0m\u001b[0m_check_n_features\u001b[0m\u001b[1;33m(\u001b[0m\u001b[0mX\u001b[0m\u001b[1;33m,\u001b[0m \u001b[0mreset\u001b[0m\u001b[1;33m=\u001b[0m\u001b[0mreset\u001b[0m\u001b[1;33m)\u001b[0m\u001b[1;33m\u001b[0m\u001b[1;33m\u001b[0m\u001b[0m\n\u001b[0m\u001b[0;32m    586\u001b[0m \u001b[1;33m\u001b[0m\u001b[0m\n\u001b[0;32m    587\u001b[0m         \u001b[1;32mreturn\u001b[0m \u001b[0mout\u001b[0m\u001b[1;33m\u001b[0m\u001b[1;33m\u001b[0m\u001b[0m\n",
      "\u001b[1;32mC:\\ProgramData\\Anaconda3\\lib\\site-packages\\sklearn\\base.py\u001b[0m in \u001b[0;36m_check_n_features\u001b[1;34m(self, X, reset)\u001b[0m\n\u001b[0;32m    398\u001b[0m \u001b[1;33m\u001b[0m\u001b[0m\n\u001b[0;32m    399\u001b[0m         \u001b[1;32mif\u001b[0m \u001b[0mn_features\u001b[0m \u001b[1;33m!=\u001b[0m \u001b[0mself\u001b[0m\u001b[1;33m.\u001b[0m\u001b[0mn_features_in_\u001b[0m\u001b[1;33m:\u001b[0m\u001b[1;33m\u001b[0m\u001b[1;33m\u001b[0m\u001b[0m\n\u001b[1;32m--> 400\u001b[1;33m             raise ValueError(\n\u001b[0m\u001b[0;32m    401\u001b[0m                 \u001b[1;34mf\"X has {n_features} features, but {self.__class__.__name__} \"\u001b[0m\u001b[1;33m\u001b[0m\u001b[1;33m\u001b[0m\u001b[0m\n\u001b[0;32m    402\u001b[0m                 \u001b[1;34mf\"is expecting {self.n_features_in_} features as input.\"\u001b[0m\u001b[1;33m\u001b[0m\u001b[1;33m\u001b[0m\u001b[0m\n",
      "\u001b[1;31mValueError\u001b[0m: X has 1 features, but MiniBatchKMeans is expecting 157 features as input."
     ]
    }
   ],
   "source": [
    "import matplotlib.pyplot as plt\n",
    "from sklearn.cluster import MiniBatchKMeans\n",
    "minibatch_kmeans = MiniBatchKMeans(n_clusters=40, random_state=42)\n",
    "cluster_labels = minibatch_kmeans.fit_predict(X_vect)\n",
    "minibatch_kmeans.predict(V_vect)"
   ]
  },
  {
   "cell_type": "code",
   "execution_count": 7,
   "id": "5259d1de",
   "metadata": {},
   "outputs": [
    {
     "name": "stdout",
     "output_type": "stream",
     "text": [
      "[32]\n"
     ]
    }
   ],
   "source": [
    "#chat gpt\n",
    "\n",
    "# Load the JSON data from the MPD slice file\n",
    "with open('mpd.slice.0-999.json') as f:\n",
    "    mpd_data = json.load(f)\n",
    "\n",
    "# Extract playlists from the data\n",
    "playlists = mpd_data[\"playlists\"]\n",
    "\n",
    "# Create a DataFrame from the playlist data\n",
    "playlist_df = pd.DataFrame(playlists)\n",
    "\n",
    "# Extract relevant features for clustering\n",
    "X = playlist_df[['name', 'description']].fillna('').apply(lambda x: ' '.join(x), axis=1)\n",
    "\n",
    "# Vectorize the text data\n",
    "vectorizer = TfidfVectorizer(max_df=0.5, min_df=2, stop_words='english')\n",
    "X_vect = vectorizer.fit_transform(X)\n",
    "\n",
    "# Fit MiniBatchKMeans on the training data\n",
    "minibatch_kmeans = MiniBatchKMeans(n_clusters=40, random_state=42)\n",
    "cluster_labels = minibatch_kmeans.fit_predict(X_vect)\n",
    "\n",
    "# Load the new playlist data\n",
    "with open('Vetting_Playlist.json', 'r') as file:\n",
    "    vetting_data = json.load(file)\n",
    "\n",
    "# Create a DataFrame from the new playlist data\n",
    "playlist_data = {\n",
    "    'name': [vetting_data['name']],\n",
    "    'description': [vetting_data.get('description', '')]  # Assuming description may be missing\n",
    "}\n",
    "playlist_df_new = pd.DataFrame(playlist_data)\n",
    "\n",
    "# Extract relevant features for clustering from the new data\n",
    "X_new = playlist_df_new[['name', 'description']].fillna('').apply(lambda x: ' '.join(x), axis=1)\n",
    "\n",
    "# Vectorize the new data\n",
    "V_vect = vectorizer.transform(X_new)\n",
    "\n",
    "# Predict clusters for the new data\n",
    "new_cluster_labels = minibatch_kmeans.predict(V_vect)\n",
    "print(new_cluster_labels)\n"
   ]
  },
  {
   "cell_type": "code",
   "execution_count": 11,
   "id": "6f25880a",
   "metadata": {},
   "outputs": [],
   "source": [
    "playlist_df_new = pd.Series(playlist_data)"
   ]
  },
  {
   "cell_type": "code",
   "execution_count": 8,
   "id": "b632acca",
   "metadata": {},
   "outputs": [
    {
     "name": "stdout",
     "output_type": "stream",
     "text": [
      "                     name collaborative  pid  modified_at  num_tracks  \\\n",
      "0                     mat         false    3   1501027200         126   \n",
      "1    I Put A Spell On You         false    6   1477094400          16   \n",
      "2                     BOP         false    8   1508976000          46   \n",
      "3                   abby          false   10   1509321600          72   \n",
      "4                   SARAH         false   18   1507334400          68   \n",
      "..                    ...           ...  ...          ...         ...   \n",
      "398                 David          true  989   1508803200          33   \n",
      "399             Michelle           true  990   1507420800          87   \n",
      "400                   R&B         false  992   1508371200         126   \n",
      "401                   🌈🌈🌈         false  993   1508112000          38   \n",
      "402                  Daze         false  996   1479254400          17   \n",
      "\n",
      "     num_albums  num_followers  \\\n",
      "0           107              1   \n",
      "1            15              1   \n",
      "2            37              2   \n",
      "3            60              2   \n",
      "4            66              1   \n",
      "..          ...            ...   \n",
      "398          31              1   \n",
      "399          84              1   \n",
      "400         106              1   \n",
      "401          24              1   \n",
      "402          17              1   \n",
      "\n",
      "                                                tracks  num_edits  \\\n",
      "0    [{'pos': 0, 'artist_name': 'Camille Saint-Saën...          4   \n",
      "1    [{'pos': 0, 'artist_name': 'Creedence Clearwat...          2   \n",
      "2    [{'pos': 0, 'artist_name': 'Catfish and the Bo...         21   \n",
      "3    [{'pos': 0, 'artist_name': 'Post Malone', 'tra...         36   \n",
      "4    [{'pos': 0, 'artist_name': 'Big & Rich', 'trac...         18   \n",
      "..                                                 ...        ...   \n",
      "398  [{'pos': 0, 'artist_name': 'Aaron Lewis', 'tra...         24   \n",
      "399  [{'pos': 0, 'artist_name': 'Petey Pablo', 'tra...          5   \n",
      "400  [{'pos': 0, 'artist_name': 'Baby Bash', 'track...         29   \n",
      "401  [{'pos': 0, 'artist_name': 'Miguel', 'track_ur...         18   \n",
      "402  [{'pos': 0, 'artist_name': 'PARTYNEXTDOOR', 't...         13   \n",
      "\n",
      "     duration_ms  num_artists description  \n",
      "0       28926058           86         NaN  \n",
      "1        3408479           13         NaN  \n",
      "2        9948921           23         NaN  \n",
      "3       16403398           40         NaN  \n",
      "4       15917464           55         NaN  \n",
      "..           ...          ...         ...  \n",
      "398      7254125           26         NaN  \n",
      "399     20637964           74         NaN  \n",
      "400     31829172           73         NaN  \n",
      "401      8986743           21         NaN  \n",
      "402      3699248           15         NaN  \n",
      "\n",
      "[403 rows x 12 columns]\n"
     ]
    }
   ],
   "source": [
    "group_32_playlists = playlist_df[cluster_labels == new_cluster_labels].reset_index(drop=True)\n",
    "print(group_32_playlists)"
   ]
  },
  {
   "cell_type": "code",
   "execution_count": 16,
   "id": "85dbd525",
   "metadata": {},
   "outputs": [
    {
     "name": "stdout",
     "output_type": "stream",
     "text": [
      "The most similar playlist ID is: 0\n",
      "The songs in the most similar playlist are: ['Danse macabre', 'Piano concerto No. 2 in G Minor, Op. 22: Piano concerto No. 2 in G Minor, Op. 22: II. Allegro scherzando', 'Dræm Girl', 'Sad Valentine', \"You Say I'm in Love\", 'Drowsy', 'Serving Goffman', 'Sea Song', 'Fortune Only', 'Looking out for You', 'Necromancer', 'Mistakes', 'Strangest Eyes', \"It's Elizabeth\", 'Pussy of my Dreams', '19', 'Neptune Estate', \"Somebody's Talking\", \"Bent (Roi's Song)\", 'Just Get High', 'I Love Seattle', 'Dark as Days', 'End It Now!', 'When Did Your Heart Go Missing?', 'Signs', 'Under A Rock', 'Two Weeks', 'Yet Again', 'Campus', 'Mess Me Around', 'Talk To Me', 'Trip Switch', 'Heart It Races - Dr Dog Version', 'Big Decisions', \"It's All in Vain\", 'Deadwater', 'C U Girl', 'HOME', 'CONTACTS', \"Can't Come Down\", 'Luv', 'Life Is What You Make It', 'Contraband', 'Miss You', \"Money Won't Pay\", \"I'll Fall\", \"Nothing's Gonna Hurt You Baby\", 'Affection', 'I Like You', 'Strange to Hear', 'Sweet Emotion', 'Pink City', 'First Balloon To Nice', 'Rubdown', 'So Much Love So Little Time', 'Last Of The Good Old Days', 'Screaming', \"Love's Lost Guarantee\", '10:1', 'Crush The Camera', 'Every Moment', 'Endgame', 'El Scorcho', 'Veldt', 'Patroklos', 'suncream', 'Crying in Public', \"It's Your Body 4\", 'Poppies', 'Just Kiss Her', 'Infinity', 'Touch My Body', \"We're Not Just Friends\", 'Tried And True', 'Weak', 'Lucky Girl', 'Stay (Bedroom Tape)', 'Weird Science', 'No One Lives Forever', 'Wild Sex (In The Working Class) - 1988 Boingo Alive Version', 'Only A Lad', 'Private Life - Edited Version', 'i was all over her', \"Hey Good Lookin'\", 'All for Myself', \"Words I Don't Remember\", 'Lost Youth / Lost You', \"What You Won't Do for Love\", \"Don't Want To Know If You Are Lonely\", 'Eight Miles High', 'Turn It Around', \"She's A Woman [And Now He Is A Man]\", 'Crystal', 'Turning Japanese', 'Interference', 'Nothing Lasts', 'Nostalgic Feel', 'Spread A Little Sunshine', 'Drugs', 'Kalte Wut / Wenn Ich Einmal Reich Bin', 'Smoking the Day Away', 'High Plains Anthem', 'Who Got Da Props', 'Chief Rocka', \"Love's Been Good To Me\", 'Listen to the Warm', 'Fatalist Palmistry', 'So Sad, So Sad', 'Cult of Personality', 'Brazil', 'Bethlehem', 'Why iii Love The Moon.', \"I'll Get Along\", 'A Sunday Kind Of Love - Single Version', 'Chemistry', 'Soldiers Requiem', 'Camarilla', 'Vanilla Blue', 'Push', 'Driftless', \"I'm So Ugly\", 'Wounds', 'You Loved Me, You Killed Me', 'Embarrassingly Enough', 'Janitor', 'Elegy']\n",
      "The songs in the most similar playlist not present in the original playlist are: ['Danse macabre', 'Piano concerto No. 2 in G Minor, Op. 22: Piano concerto No. 2 in G Minor, Op. 22: II. Allegro scherzando', 'Dræm Girl', 'Sad Valentine', \"You Say I'm in Love\", 'Drowsy', 'Serving Goffman', 'Sea Song', 'Fortune Only', 'Looking out for You', 'Necromancer', 'Mistakes', 'Strangest Eyes', \"It's Elizabeth\", 'Pussy of my Dreams', '19', 'Neptune Estate', \"Somebody's Talking\", \"Bent (Roi's Song)\", 'Just Get High', 'I Love Seattle', 'Dark as Days', 'End It Now!', 'When Did Your Heart Go Missing?', 'Signs', 'Under A Rock', 'Two Weeks', 'Yet Again', 'Campus', 'Mess Me Around', 'Talk To Me', 'Trip Switch', 'Heart It Races - Dr Dog Version', 'Big Decisions', \"It's All in Vain\", 'Deadwater', 'C U Girl', 'HOME', 'CONTACTS', \"Can't Come Down\", 'Luv', 'Life Is What You Make It', 'Contraband', 'Miss You', \"Money Won't Pay\", \"I'll Fall\", \"Nothing's Gonna Hurt You Baby\", 'Affection', 'I Like You', 'Strange to Hear', 'Sweet Emotion', 'Pink City', 'First Balloon To Nice', 'Rubdown', 'So Much Love So Little Time', 'Last Of The Good Old Days', 'Screaming', \"Love's Lost Guarantee\", '10:1', 'Crush The Camera', 'Every Moment', 'Endgame', 'El Scorcho', 'Veldt', 'Patroklos', 'suncream', 'Crying in Public', \"It's Your Body 4\", 'Poppies', 'Just Kiss Her', 'Infinity', 'Touch My Body', \"We're Not Just Friends\", 'Tried And True', 'Weak', 'Lucky Girl', 'Stay (Bedroom Tape)', 'Weird Science', 'No One Lives Forever', 'Wild Sex (In The Working Class) - 1988 Boingo Alive Version', 'Only A Lad', 'Private Life - Edited Version', 'i was all over her', \"Hey Good Lookin'\", 'All for Myself', \"Words I Don't Remember\", 'Lost Youth / Lost You', \"What You Won't Do for Love\", \"Don't Want To Know If You Are Lonely\", 'Eight Miles High', 'Turn It Around', \"She's A Woman [And Now He Is A Man]\", 'Crystal', 'Turning Japanese', 'Interference', 'Nothing Lasts', 'Nostalgic Feel', 'Spread A Little Sunshine', 'Drugs', 'Kalte Wut / Wenn Ich Einmal Reich Bin', 'Smoking the Day Away', 'High Plains Anthem', 'Who Got Da Props', 'Chief Rocka', \"Love's Been Good To Me\", 'Listen to the Warm', 'Fatalist Palmistry', 'So Sad, So Sad', 'Cult of Personality', 'Brazil', 'Bethlehem', 'Why iii Love The Moon.', \"I'll Get Along\", 'A Sunday Kind Of Love - Single Version', 'Chemistry', 'Soldiers Requiem', 'Camarilla', 'Vanilla Blue', 'Push', 'Driftless', \"I'm So Ugly\", 'Wounds', 'You Loved Me, You Killed Me', 'Embarrassingly Enough', 'Janitor', 'Elegy']\n"
     ]
    }
   ],
   "source": [
    "import pandas as pd\n",
    "from sklearn.metrics.pairwise import cosine_similarity\n",
    "from sklearn.feature_extraction.text import CountVectorizer\n",
    "playlist_series = pd.Series(playlist_data)\n",
    "playlistDic = {\n",
    "    'playlist_id': [],\n",
    "    'songs': []\n",
    "}\n",
    "for i in range(len(group_32_playlists)):\n",
    "    playlistDic['playlist_id'].append(i)\n",
    "    playlistDic['songs'].append([])\n",
    "    for y in range(len(group_32_playlists['tracks'][i])):\n",
    "        playlistDic['songs'][i].append(group_32_playlists['tracks'][i][y]['track_name'])\n",
    "        \n",
    "        \n",
    "playlists_df = pd.DataFrame(playlistDic)\n",
    "        \n",
    "# Convert the playlist series and DataFrame to strings\n",
    "playlist_series_str = ' '.join(playlist_series[0])\n",
    "playlists_df['songs_str'] = playlists_df['songs'].apply(lambda x: ' '.join(x))\n",
    "\n",
    "# Create a CountVectorizer to convert playlists to vectors\n",
    "vectorizer = CountVectorizer(binary=True)\n",
    "X = vectorizer.fit_transform([playlist_series_str] + list(playlists_df['songs_str']))\n",
    "\n",
    "# Calculate cosine similarity\n",
    "cosine_sim = cosine_similarity(X)[0][1:]\n",
    "\n",
    "# Find the index of the most similar playlist\n",
    "most_similar_index = cosine_sim.argmax()\n",
    "\n",
    "# Get the most similar playlist ID\n",
    "most_similar_playlist_id = playlists_df.iloc[most_similar_index]['playlist_id']\n",
    "most_similar_playlist = playlists_df.iloc[most_similar_index]['songs']\n",
    "songs_not_in_original = [song for song in most_similar_playlist if song not in playlist_series]\n",
    "\n",
    "print(f\"The most similar playlist ID is: {most_similar_playlist_id}\")\n",
    "print(f\"The songs in the most similar playlist are: {most_similar_playlist}\")\n",
    "print(f\"The songs in the most similar playlist not present in the original playlist are: {songs_not_in_original}\")"
   ]
  },
  {
   "cell_type": "code",
   "execution_count": null,
   "id": "b8aeab57",
   "metadata": {},
   "outputs": [],
   "source": [
    "['Danse macabre', 'Piano concerto No. 2 in G Minor, Op. 22: Piano concerto No. 2 in G Minor, Op. 22: II. Allegro scherzando', 'Dræm Girl', 'Sad Valentine', \"You Say I'm in Love\", 'Drowsy', 'Serving Goffman', 'Sea Song', 'Fortune Only', 'Looking out for You', 'Necromancer', 'Mistakes', 'Strangest Eyes', \"It's Elizabeth\", 'Pussy of my Dreams', '19', 'Neptune Estate', \"Somebody's Talking\", \"Bent (Roi's Song)\", 'Just Get High', 'I Love Seattle', 'Dark as Days', 'End It Now!', 'When Did Your Heart Go Missing?', 'Signs', 'Under A Rock', 'Two Weeks', 'Yet Again', 'Campus', 'Mess Me Around', 'Talk To Me', 'Trip Switch', 'Heart It Races - Dr Dog Version', 'Big Decisions', \"It's All in Vain\", 'Deadwater', 'C U Girl', 'HOME', 'CONTACTS', \"Can't Come Down\", 'Luv', 'Life Is What You Make It', 'Contraband', 'Miss You', \"Money Won't Pay\", \"I'll Fall\", \"Nothing's Gonna Hurt You Baby\", 'Affection', 'I Like You', 'Strange to Hear', 'Sweet Emotion', 'Pink City', 'First Balloon To Nice', 'Rubdown', 'So Much Love So Little Time', 'Last Of The Good Old Days', 'Screaming', \"Love's Lost Guarantee\", '10:1', 'Crush The Camera', 'Every Moment', 'Endgame', 'El Scorcho', 'Veldt', 'Patroklos', 'suncream', 'Crying in Public', \"It's Your Body 4\", 'Poppies', 'Just Kiss Her', 'Infinity', 'Touch My Body', \"We're Not Just Friends\", 'Tried And True', 'Weak', 'Lucky Girl', 'Stay (Bedroom Tape)', 'Weird Science', 'No One Lives Forever', 'Wild Sex (In The Working Class) - 1988 Boingo Alive Version', 'Only A Lad', 'Private Life - Edited Version', 'i was all over her', \"Hey Good Lookin'\", 'All for Myself', \"Words I Don't Remember\", 'Lost Youth / Lost You', \"What You Won't Do for Love\", \"Don't Want To Know If You Are Lonely\", 'Eight Miles High', 'Turn It Around', \"She's A Woman [And Now He Is A Man]\", 'Crystal', 'Turning Japanese', 'Interference', 'Nothing Lasts', 'Nostalgic Feel', 'Spread A Little Sunshine', 'Drugs', 'Kalte Wut / Wenn Ich Einmal Reich Bin', 'Smoking the Day Away', 'High Plains Anthem', 'Who Got Da Props', 'Chief Rocka', \"Love's Been Good To Me\", 'Listen to the Warm', 'Fatalist Palmistry', 'So Sad, So Sad', 'Cult of Personality', 'Brazil', 'Bethlehem', 'Why iii Love The Moon.', \"I'll Get Along\", 'A Sunday Kind Of Love - Single Version', 'Chemistry', 'Soldiers Requiem', 'Camarilla', 'Vanilla Blue', 'Push', 'Driftless', \"I'm So Ugly\", 'Wounds', 'You Loved Me, You Killed Me', 'Embarrassingly Enough', 'Janitor', 'Elegy']\n",
    "['Danse macabre', 'Piano concerto No. 2 in G Minor, Op. 22: Piano concerto No. 2 in G Minor, Op. 22: II. Allegro scherzando', 'Dræm Girl', 'Sad Valentine', \"You Say I'm in Love\", 'Drowsy', 'Serving Goffman', 'Sea Song', 'Fortune Only', 'Looking out for You', 'Necromancer', 'Mistakes', 'Strangest Eyes', \"It's Elizabeth\", 'Pussy of my Dreams', '19', 'Neptune Estate', \"Somebody's Talking\", \"Bent (Roi's Song)\", 'Just Get High', 'I Love Seattle', 'Dark as Days', 'End It Now!', 'When Did Your Heart Go Missing?', 'Signs', 'Under A Rock', 'Two Weeks', 'Yet Again', 'Campus', 'Mess Me Around', 'Talk To Me', 'Trip Switch', 'Heart It Races - Dr Dog Version', 'Big Decisions', \"It's All in Vain\", 'Deadwater', 'C U Girl', 'HOME', 'CONTACTS', \"Can't Come Down\", 'Luv', 'Life Is What You Make It', 'Contraband', 'Miss You', \"Money Won't Pay\", \"I'll Fall\", \"Nothing's Gonna Hurt You Baby\", 'Affection', 'I Like You', 'Strange to Hear', 'Sweet Emotion', 'Pink City', 'First Balloon To Nice', 'Rubdown', 'So Much Love So Little Time', 'Last Of The Good Old Days', 'Screaming', \"Love's Lost Guarantee\", '10:1', 'Crush The Camera', 'Every Moment', 'Endgame', 'El Scorcho', 'Veldt', 'Patroklos', 'suncream', 'Crying in Public', \"It's Your Body 4\", 'Poppies', 'Just Kiss Her', 'Infinity', 'Touch My Body', \"We're Not Just Friends\", 'Tried And True', 'Weak', 'Lucky Girl', 'Stay (Bedroom Tape)', 'Weird Science', 'No One Lives Forever', 'Wild Sex (In The Working Class) - 1988 Boingo Alive Version', 'Only A Lad', 'Private Life - Edited Version', 'i was all over her', \"Hey Good Lookin'\", 'All for Myself', \"Words I Don't Remember\", 'Lost Youth / Lost You', \"What You Won't Do for Love\", \"Don't Want To Know If You Are Lonely\", 'Eight Miles High', 'Turn It Around', \"She's A Woman [And Now He Is A Man]\", 'Crystal', 'Turning Japanese', 'Interference', 'Nothing Lasts', 'Nostalgic Feel', 'Spread A Little Sunshine', 'Drugs', 'Kalte Wut / Wenn Ich Einmal Reich Bin', 'Smoking the Day Away', 'High Plains Anthem', 'Who Got Da Props', 'Chief Rocka', \"Love's Been Good To Me\", 'Listen to the Warm', 'Fatalist Palmistry', 'So Sad, So Sad', 'Cult of Personality', 'Brazil', 'Bethlehem', 'Why iii Love The Moon.', \"I'll Get Along\", 'A Sunday Kind Of Love - Single Version', 'Chemistry', 'Soldiers Requiem', 'Camarilla', 'Vanilla Blue', 'Push', 'Driftless', \"I'm So Ugly\", 'Wounds', 'You Loved Me, You Killed Me', 'Embarrassingly Enough', 'Janitor', 'Elegy']"
   ]
  }
 ],
 "metadata": {
  "kernelspec": {
   "display_name": "Python 3 (ipykernel)",
   "language": "python",
   "name": "python3"
  },
  "language_info": {
   "codemirror_mode": {
    "name": "ipython",
    "version": 3
   },
   "file_extension": ".py",
   "mimetype": "text/x-python",
   "name": "python",
   "nbconvert_exporter": "python",
   "pygments_lexer": "ipython3",
   "version": "3.9.13"
  }
 },
 "nbformat": 4,
 "nbformat_minor": 5
}
