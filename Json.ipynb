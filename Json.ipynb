{
 "cells": [
  {
   "cell_type": "code",
   "execution_count": 3,
   "id": "6ec4fe3b",
   "metadata": {},
   "outputs": [],
   "source": [
    "import json\n",
    "import pandas as pd\n",
    "from sklearn.feature_extraction.text import TfidfVectorizer\n",
    "from sklearn.metrics.pairwise import cosine_similarity\n",
    "from sklearn.cluster import KMeans\n",
    "\n",
    "# Load JSON files\n",
    "def load_json(file_path):\n",
    "    with open(file_path, 'r') as file:\n",
    "        return json.load(file)\n",
    "\n",
    "vetting_playlist = load_json('Vetting_Playlist.json')\n",
    "songs = load_json('songs_0-999.json')\n",
    "artists = load_json('artists_0-999.json')\n",
    "albums = load_json('albums_0-999.json')\n",
    "\n"
   ]
  },
  {
   "cell_type": "code",
   "execution_count": 4,
   "id": "2c538898",
   "metadata": {},
   "outputs": [],
   "source": [
    "import pandas as pd\n",
    "\n",
    "# Assuming songs_data is your loaded JSON data\n",
    "songs_data = load_json('songs_0-999.json')\n",
    "\n",
    "# Extract song details including artist names and album name\n",
    "song_details = []\n",
    "for song_id, details in songs_data.items():\n",
    "    artist_names = ', '.join([artist['name'] for artist in details['album']['artists']])\n",
    "    album_name = details['album']['name']\n",
    "    song_details.append({'song_id': song_id, 'artist_names': artist_names, 'album_name': album_name})\n",
    "\n",
    "# Convert to DataFrame\n",
    "df_songs = pd.DataFrame(song_details)\n"
   ]
  },
  {
   "cell_type": "code",
   "execution_count": null,
   "id": "c7e6c2de",
   "metadata": {},
   "outputs": [],
   "source": []
  },
  {
   "cell_type": "code",
   "execution_count": 6,
   "id": "09c99b80",
   "metadata": {},
   "outputs": [],
   "source": [
    "import json\n",
    "import pandas as pd\n",
    "from sklearn.feature_extraction.text import TfidfVectorizer\n",
    "from sklearn.cluster import KMeans\n",
    "from sklearn.metrics.pairwise import cosine_similarity\n",
    "\n",
    "# Function to load JSON data\n",
    "def load_json(file_path):\n",
    "    with open(file_path, 'r') as file:\n",
    "        return json.load(file)\n",
    "\n",
    "# Load songs data\n",
    "songs_data = load_json('songs_0-999.json')\n"
   ]
  },
  {
   "cell_type": "code",
   "execution_count": 8,
   "id": "b5f2586d",
   "metadata": {},
   "outputs": [],
   "source": [
    "# Extract song details\n",
    "song_details = []\n",
    "for song_id, details in songs_data.items():\n",
    "    artist_names = ', '.join([artist['name'] for artist in details['album']['artists']])\n",
    "    album_name = details['album']['name']\n",
    "    song_details.append({'song_id': song_id, 'artist_names': artist_names, 'album_name': album_name})\n",
    "\n",
    "# Convert to DataFrame\n",
    "df_songs = pd.DataFrame(song_details)"
   ]
  },
  {
   "cell_type": "code",
   "execution_count": 9,
   "id": "ab286c93",
   "metadata": {},
   "outputs": [],
   "source": [
    "tfidf_vectorizer = TfidfVectorizer(stop_words='english')\n",
    "tfidf_matrix = tfidf_vectorizer.fit_transform(df_songs['artist_names'] + \" \" + df_songs['album_name'])\n"
   ]
  },
  {
   "cell_type": "code",
   "execution_count": 11,
   "id": "590f21e4",
   "metadata": {},
   "outputs": [
    {
     "name": "stderr",
     "output_type": "stream",
     "text": [
      "C:\\ProgramData\\anaconda3\\Lib\\site-packages\\sklearn\\cluster\\_kmeans.py:1412: FutureWarning: The default value of `n_init` will change from 10 to 'auto' in 1.4. Set the value of `n_init` explicitly to suppress the warning\n",
      "  super()._check_params_vs_input(X, default_n_init=10)\n"
     ]
    }
   ],
   "source": [
    "kmeans = KMeans(n_clusters=10, random_state=42)  # Adjust the number of clusters as needed\n",
    "df_songs['cluster'] = kmeans.fit_predict(tfidf_matrix)\n"
   ]
  },
  {
   "cell_type": "code",
   "execution_count": 21,
   "id": "b33dce71",
   "metadata": {},
   "outputs": [],
   "source": [
    "vetting_playlist_songs = vetting_playlist_data.get('tracks', {}).get('items', [])\n",
    "\n",
    "vetting_playlist_details = []\n",
    "for song_entry in vetting_playlist_songs:\n",
    "    try:\n",
    "        # Check if 'track' key exists and contains needed data\n",
    "        if 'track' in song_entry and 'album' in song_entry['track']:\n",
    "            track_data = song_entry['track']\n",
    "            song_id = track_data.get('id', 'Unknown ID')  # Providing a fallback value\n",
    "            artist_names = ', '.join(artist.get('name', 'Unknown Artist') for artist in track_data['album']['artists'])\n",
    "            album_name = track_data['album'].get('name', 'Unknown Album')\n",
    "            vetting_playlist_details.append({\n",
    "                'song_id': song_id,\n",
    "                'artist_names': artist_names,\n",
    "                'album_name': album_name\n",
    "            })\n",
    "        else:\n",
    "            print(f\"Missing 'album' data for song entry: {song_entry.get('track', {}).get('id', 'Unknown ID')}\")\n",
    "    except Exception as e:\n",
    "        print(f\"Error processing song entry: {e}\")\n",
    "\n",
    "df_vetting_playlist = pd.DataFrame(vetting_playlist_details)\n"
   ]
  },
  {
   "cell_type": "code",
   "execution_count": 22,
   "id": "23f1d889",
   "metadata": {},
   "outputs": [
    {
     "name": "stdout",
     "output_type": "stream",
     "text": [
      "                  song_id        artist_names     album_name\n",
      "0  51ggEZWbFP5dMdWjGCDYTk      Alabama Shakes  Sound & Color\n",
      "1  6p5LBZkLRIeVhbLh0w7EuP      Alabama Shakes  Future People\n",
      "2  2lrRWbiHPdBicufAqrGN3r      Alabama Shakes  Sound & Color\n",
      "3  7Gz1adaLeIHNOqJPvfnncD      Alabama Shakes  Sound & Color\n",
      "4  17ZnveSDBpG9QtL7zLJNPy  Heartless Bastards          Arrow\n"
     ]
    }
   ],
   "source": [
    "# Display the first few rows of the vetting playlist DataFrame to verify its contents\n",
    "print(df_vetting_playlist.head())"
   ]
  },
  {
   "cell_type": "code",
   "execution_count": 23,
   "id": "915ff60a",
   "metadata": {},
   "outputs": [
    {
     "name": "stdout",
     "output_type": "stream",
     "text": [
      "Most Common Artists in Vetting Playlist:\n",
      "Angel Olsen       7\n",
      "Alabama Shakes    6\n",
      "Shakey Graves     4\n",
      "Big Thief         4\n",
      "DeVotchKa         3\n",
      "Name: artist_names, dtype: int64\n"
     ]
    }
   ],
   "source": [
    "# Find the most common artists in the vetting playlist\n",
    "common_artists = df_vetting_playlist['artist_names'].value_counts()\n",
    "\n",
    "print(\"Most Common Artists in Vetting Playlist:\")\n",
    "print(common_artists.head())  # Adjust the number passed to head() as desired\n"
   ]
  },
  {
   "cell_type": "code",
   "execution_count": 27,
   "id": "96a49426",
   "metadata": {},
   "outputs": [],
   "source": [
    "# Function to load JSON data\n",
    "def load_json(file_path):\n",
    "    with open(file_path, 'r') as file:\n",
    "        return json.load(file)\n",
    "\n",
    "# Load another songs dataset\n",
    "other_songs_data = load_json('songs_0-999.json')\n",
    "\n",
    "# Extract song details from the other dataset\n",
    "other_songs_details = []\n",
    "for song_id, details in other_songs_data.items():\n",
    "    try:\n",
    "        artist_names = ', '.join(artist['name'] for artist in details['album']['artists'])\n",
    "        album_name = details['album']['name']\n",
    "        other_songs_details.append({\n",
    "            'song_id': song_id,\n",
    "            'artist_names': artist_names,\n",
    "            'album_name': album_name\n",
    "        })\n",
    "    except KeyError:\n",
    "        print(f\"KeyError processing song ID {song_id}\")\n",
    "\n",
    "# Convert to DataFrame\n",
    "df_other_songs = pd.DataFrame(other_songs_details)\n"
   ]
  },
  {
   "cell_type": "code",
   "execution_count": 28,
   "id": "19a143c1",
   "metadata": {},
   "outputs": [],
   "source": [
    "df_vetting_playlist['combined'] = df_vetting_playlist['artist_names'] + \" \" + df_vetting_playlist['album_name']\n",
    "df_other_songs['combined'] = df_other_songs['artist_names'] + \" \" + df_other_songs['album_name']\n"
   ]
  },
  {
   "cell_type": "code",
   "execution_count": 29,
   "id": "2b9f0a61",
   "metadata": {},
   "outputs": [],
   "source": [
    "from sklearn.feature_extraction.text import TfidfVectorizer\n",
    "from sklearn.metrics.pairwise import cosine_similarity\n",
    "\n",
    "# Create TF-IDF vectors for all songs combined\n",
    "tfidf_vectorizer = TfidfVectorizer(stop_words='english')\n",
    "tfidf_matrix_all = tfidf_vectorizer.fit_transform(df_vetting_playlist['combined'].tolist() + df_other_songs['combined'].tolist())\n",
    "\n",
    "# Calculate cosine similarities\n",
    "similarity_matrix = cosine_similarity(tfidf_matrix_all[:len(df_vetting_playlist)], tfidf_matrix_all[len(df_vetting_playlist):])\n",
    "\n",
    "# Find the most similar song for each song in the vetting playlist\n",
    "most_similar_indices = similarity_matrix.argmax(axis=1)\n",
    "most_similar_scores = similarity_matrix.max(axis=1)\n"
   ]
  },
  {
   "cell_type": "code",
   "execution_count": 30,
   "id": "6911647e",
   "metadata": {},
   "outputs": [
    {
     "name": "stdout",
     "output_type": "stream",
     "text": [
      "           vetting_song_id                 song_id        artist_names  \\\n",
      "0   51ggEZWbFP5dMdWjGCDYTk  2lrRWbiHPdBicufAqrGN3r      Alabama Shakes   \n",
      "1   6p5LBZkLRIeVhbLh0w7EuP  26ZTwQyRVbec9wQ0OaihjE      Alabama Shakes   \n",
      "2   2lrRWbiHPdBicufAqrGN3r  2lrRWbiHPdBicufAqrGN3r      Alabama Shakes   \n",
      "3   7Gz1adaLeIHNOqJPvfnncD  2lrRWbiHPdBicufAqrGN3r      Alabama Shakes   \n",
      "4   17ZnveSDBpG9QtL7zLJNPy  17ZnveSDBpG9QtL7zLJNPy  Heartless Bastards   \n",
      "..                     ...                     ...                 ...   \n",
      "95  0DzNSw9Pp1yKJZynNBM8uy  6v3QCw4ca5cR4VkzpG0PHy           Alkilados   \n",
      "96  6qZjm61s6u8Ead9sWxCDro  6vTtMyCg96xwpoIBws9K0Q         Tame Impala   \n",
      "97  5mqr5kF7oNDdcG01qazSqK  7gxakgZXtvTcBjaxOAZ08G      Cherry Glazerr   \n",
      "98  1rO4Ew8dCbYWqJ3L6DmJDo  5E5HYgxGMp3BPakHGfKfIB   The Modern Lovers   \n",
      "99  4lZjHEJXzKCCTVPtgYcypv  7nSyjL3LIXy2DXF9003HdX        Thee Oh Sees   \n",
      "\n",
      "                              album_name  similarity_score  \n",
      "0                          Sound & Color          1.000000  \n",
      "1                         Always Alright          0.602951  \n",
      "2                          Sound & Color          1.000000  \n",
      "3                          Sound & Color          1.000000  \n",
      "4                                  Arrow          1.000000  \n",
      "..                                   ...               ...  \n",
      "95                      Una Cita (Remix)          0.261626  \n",
      "96                              Lonerism          1.000000  \n",
      "97                         Apocalipstick          0.621241  \n",
      "98  The Modern Lovers (Expanded Version)          0.423087  \n",
      "99                                  Help          0.625818  \n",
      "\n",
      "[100 rows x 5 columns]\n"
     ]
    }
   ],
   "source": [
    "# Extract the most similar songs' details\n",
    "similar_songs_details = df_other_songs.iloc[most_similar_indices].reset_index(drop=True)\n",
    "similar_songs_details['similarity_score'] = most_similar_scores\n",
    "\n",
    "# Add titles from the vetting playlist for reference\n",
    "similar_songs_details['vetting_song_id'] = df_vetting_playlist['song_id'].values\n",
    "\n",
    "# Display the result\n",
    "print(similar_songs_details[['vetting_song_id', 'song_id', 'artist_names', 'album_name', 'similarity_score']])\n"
   ]
  },
  {
   "cell_type": "code",
   "execution_count": 31,
   "id": "dcfd451d",
   "metadata": {},
   "outputs": [
    {
     "ename": "NameError",
     "evalue": "name 'combined_texts' is not defined",
     "output_type": "error",
     "traceback": [
      "\u001b[1;31m---------------------------------------------------------------------------\u001b[0m",
      "\u001b[1;31mNameError\u001b[0m                                 Traceback (most recent call last)",
      "Cell \u001b[1;32mIn[31], line 7\u001b[0m\n\u001b[0;32m      5\u001b[0m \u001b[38;5;66;03m# Assuming `combined_texts` contains all your combined artist and album names\u001b[39;00m\n\u001b[0;32m      6\u001b[0m tfidf_vectorizer \u001b[38;5;241m=\u001b[39m TfidfVectorizer(stop_words\u001b[38;5;241m=\u001b[39m\u001b[38;5;124m'\u001b[39m\u001b[38;5;124menglish\u001b[39m\u001b[38;5;124m'\u001b[39m)\n\u001b[1;32m----> 7\u001b[0m tfidf_matrix \u001b[38;5;241m=\u001b[39m tfidf_vectorizer\u001b[38;5;241m.\u001b[39mfit_transform(combined_texts)\n\u001b[0;32m      9\u001b[0m distortions \u001b[38;5;241m=\u001b[39m []\n\u001b[0;32m     10\u001b[0m K \u001b[38;5;241m=\u001b[39m \u001b[38;5;28mrange\u001b[39m(\u001b[38;5;241m1\u001b[39m, \u001b[38;5;241m11\u001b[39m)  \u001b[38;5;66;03m# Adjust the range of k as needed\u001b[39;00m\n",
      "\u001b[1;31mNameError\u001b[0m: name 'combined_texts' is not defined"
     ]
    }
   ],
   "source": [
    "from sklearn.feature_extraction.text import TfidfVectorizer\n",
    "from sklearn.cluster import KMeans\n",
    "import matplotlib.pyplot as plt\n",
    "\n",
    "# Assuming `combined_texts` contains all your combined artist and album names\n",
    "tfidf_vectorizer = TfidfVectorizer(stop_words='english')\n",
    "tfidf_matrix = tfidf_vectorizer.fit_transform(combined_texts)\n",
    "\n",
    "distortions = []\n",
    "K = range(1, 11)  # Adjust the range of k as needed\n",
    "for k in K:\n",
    "    kmeans = KMeans(n_clusters=k, random_state=42)\n",
    "    kmeans.fit(tfidf_matrix)\n",
    "    distortions.append(kmeans.inertia_)\n",
    "\n",
    "plt.figure(figsize=(10, 6))\n",
    "plt.plot(K, distortions, 'bx-')\n",
    "plt.xlabel('Number of clusters')\n",
    "plt.ylabel('Distortion')\n",
    "plt.title('The Elbow Method showing the optimal k')\n",
    "plt.show()\n"
   ]
  },
  {
   "cell_type": "code",
   "execution_count": null,
   "id": "064255dc",
   "metadata": {},
   "outputs": [],
   "source": []
  }
 ],
 "metadata": {
  "kernelspec": {
   "display_name": "Python 3 (ipykernel)",
   "language": "python",
   "name": "python3"
  },
  "language_info": {
   "codemirror_mode": {
    "name": "ipython",
    "version": 3
   },
   "file_extension": ".py",
   "mimetype": "text/x-python",
   "name": "python",
   "nbconvert_exporter": "python",
   "pygments_lexer": "ipython3",
   "version": "3.11.4"
  }
 },
 "nbformat": 4,
 "nbformat_minor": 5
}
